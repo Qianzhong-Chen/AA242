{
 "cells": [
  {
   "cell_type": "code",
   "execution_count": 2,
   "id": "25bf8f1a",
   "metadata": {},
   "outputs": [
    {
     "data": {
      "text/plain": [
       "np.float64(75.45612929021688)"
      ]
     },
     "execution_count": 2,
     "metadata": {},
     "output_type": "execute_result"
    }
   ],
   "source": [
    "import numpy as np\n",
    "np.log(2+np.sqrt(3)) / np.pi * 180"
   ]
  },
  {
   "cell_type": "code",
   "execution_count": 5,
   "id": "59a6cd25",
   "metadata": {},
   "outputs": [
    {
     "data": {
      "text/plain": [
       "(np.float64(-1.4254535107952069), np.float64(2.229129042480912))"
      ]
     },
     "execution_count": 5,
     "metadata": {},
     "output_type": "execute_result"
    }
   ],
   "source": [
    "np.sqrt(7)*np.cos(122.6/180*np.pi), 2.646*np.sin(122.6/180*np.pi)"
   ]
  },
  {
   "cell_type": "code",
   "execution_count": 9,
   "id": "882ead19",
   "metadata": {},
   "outputs": [
    {
     "data": {
      "text/plain": [
       "np.float64(1.732050807568877)"
      ]
     },
     "execution_count": 9,
     "metadata": {},
     "output_type": "execute_result"
    }
   ],
   "source": [
    "a = np.log(2+np.sqrt(3))\n",
    "(np.exp(a) - np.exp(-a))/2"
   ]
  },
  {
   "cell_type": "code",
   "execution_count": null,
   "id": "d3a7b967",
   "metadata": {},
   "outputs": [],
   "source": []
  }
 ],
 "metadata": {
  "kernelspec": {
   "display_name": "py310",
   "language": "python",
   "name": "python3"
  },
  "language_info": {
   "codemirror_mode": {
    "name": "ipython",
    "version": 3
   },
   "file_extension": ".py",
   "mimetype": "text/x-python",
   "name": "python",
   "nbconvert_exporter": "python",
   "pygments_lexer": "ipython3",
   "version": "3.10.16"
  }
 },
 "nbformat": 4,
 "nbformat_minor": 5
}
